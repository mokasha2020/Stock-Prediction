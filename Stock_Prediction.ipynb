{
 "cells": [
  {
   "cell_type": "markdown",
   "id": "77779dd1-09c7-4eae-bcc7-30d26e328600",
   "metadata": {},
   "source": [
    "# Stock Price Prediction\n",
    "\n",
    "Let's say we want to make money by buying stocks.  Since we want to make money, we only want to buy stock on days when the price will go up (we're against shorting the stock).  We'll create a machine learning algorithm to predict if the stock price will increase tomorrow.  If the algorithm says that the price will increase, we'll buy stock.  If the algorithm says that the price will go down, we won't do anything.\n",
    "\n",
    "We want to maximize our `true positives` - days when the algorithm predicts that the price will go up, and it actually goes go up.  Therefore, we'll be using precision as our error metric for our algorithm, which is `true positives / (false positives + true positives)`.  This will ensure that we minimize how much money we lose with `false positives` (days when we buy the stock, but the price actually goes down).\n",
    "\n",
    "This means that we will have to accept a lot of `false negatives` - days when we predict that the price will go down, but it actually goes up.  This is okay, since we'd rather minimize our potential losses than maximize our potential gains.\n",
    "\n",
    "## Method\n",
   ]
  },
  {
   "cell_type": "code",
   "execution_count": null,
   "id": "577537db-197f-4294-8ea9-fa3e0660bdc7",
   "metadata": {},
   "outputs": [],
   "source": [
    "#Predicting Microsoft stock price\n",
    "#yfinance is a library that let you download Yahoo stock prices.Yahoo\n",
    "#API has been deprecated. \n",
    "\n",
    "import yfinance as yf\n",
    "\n",
    "msft = yf.Ticker(\"MSFT\") # Ticker object\n",
    "msft_hist = msft.history(period=\"max\")\n"
   ]
  },
  {
   "cell_type": "code",
   "execution_count": 41,
   "id": "1faa206a-f623-4aa8-91c7-2bc393f74110",
   "metadata": {},
   "outputs": [
    {
     "data": {
      "text/html": [
       "<div>\n",
       "<style scoped>\n",
       "    .dataframe tbody tr th:only-of-type {\n",
       "        vertical-align: middle;\n",
       "    }\n",
       "\n",
       "    .dataframe tbody tr th {\n",
       "        vertical-align: top;\n",
       "    }\n",
       "\n",
       "    .dataframe thead th {\n",
       "        text-align: right;\n",
       "    }\n",
       "</style>\n",
       "<table border=\"1\" class=\"dataframe\">\n",
       "  <thead>\n",
       "    <tr style=\"text-align: right;\">\n",
       "      <th></th>\n",
       "      <th>Open</th>\n",
       "      <th>High</th>\n",
       "      <th>Low</th>\n",
       "      <th>Close</th>\n",
       "      <th>Volume</th>\n",
       "      <th>Dividends</th>\n",
       "      <th>Stock Splits</th>\n",
       "    </tr>\n",
       "    <tr>\n",
       "      <th>Date</th>\n",
       "      <th></th>\n",
       "      <th></th>\n",
       "      <th></th>\n",
       "      <th></th>\n",
       "      <th></th>\n",
       "      <th></th>\n",
       "      <th></th>\n",
       "    </tr>\n",
       "  </thead>\n",
       "  <tbody>\n",
       "    <tr>\n",
       "      <th>1986-03-13</th>\n",
       "      <td>0.055653</td>\n",
       "      <td>0.063838</td>\n",
       "      <td>0.055653</td>\n",
       "      <td>0.061109</td>\n",
       "      <td>1031788800</td>\n",
       "      <td>0.0</td>\n",
       "      <td>0.0</td>\n",
       "    </tr>\n",
       "    <tr>\n",
       "      <th>1986-03-14</th>\n",
       "      <td>0.061109</td>\n",
       "      <td>0.064384</td>\n",
       "      <td>0.061109</td>\n",
       "      <td>0.063292</td>\n",
       "      <td>308160000</td>\n",
       "      <td>0.0</td>\n",
       "      <td>0.0</td>\n",
       "    </tr>\n",
       "    <tr>\n",
       "      <th>1986-03-17</th>\n",
       "      <td>0.063292</td>\n",
       "      <td>0.064929</td>\n",
       "      <td>0.063292</td>\n",
       "      <td>0.064384</td>\n",
       "      <td>133171200</td>\n",
       "      <td>0.0</td>\n",
       "      <td>0.0</td>\n",
       "    </tr>\n",
       "    <tr>\n",
       "      <th>1986-03-18</th>\n",
       "      <td>0.064383</td>\n",
       "      <td>0.064929</td>\n",
       "      <td>0.062201</td>\n",
       "      <td>0.062746</td>\n",
       "      <td>67766400</td>\n",
       "      <td>0.0</td>\n",
       "      <td>0.0</td>\n",
       "    </tr>\n",
       "    <tr>\n",
       "      <th>1986-03-19</th>\n",
       "      <td>0.062746</td>\n",
       "      <td>0.063292</td>\n",
       "      <td>0.061109</td>\n",
       "      <td>0.061655</td>\n",
       "      <td>47894400</td>\n",
       "      <td>0.0</td>\n",
       "      <td>0.0</td>\n",
       "    </tr>\n",
       "  </tbody>\n",
       "</table>\n",
       "</div>"
      ],
      "text/plain": [
       "                Open      High       Low     Close      Volume  Dividends  \\\n",
       "Date                                                                        \n",
       "1986-03-13  0.055653  0.063838  0.055653  0.061109  1031788800        0.0   \n",
       "1986-03-14  0.061109  0.064384  0.061109  0.063292   308160000        0.0   \n",
       "1986-03-17  0.063292  0.064929  0.063292  0.064384   133171200        0.0   \n",
       "1986-03-18  0.064383  0.064929  0.062201  0.062746    67766400        0.0   \n",
       "1986-03-19  0.062746  0.063292  0.061109  0.061655    47894400        0.0   \n",
       "\n",
       "            Stock Splits  \n",
       "Date                      \n",
       "1986-03-13           0.0  \n",
       "1986-03-14           0.0  \n",
       "1986-03-17           0.0  \n",
       "1986-03-18           0.0  \n",
       "1986-03-19           0.0  "
      ]
     },
     "execution_count": 41,
     "metadata": {},
     "output_type": "execute_result"
    }
   ],
   "source": [
    "msft_hist.head(5) # First 5 items in the time series data where every\n",
    "# represents a certain date/time in sequence"
   ]
  },
  {
   "cell_type": "code",
   "execution_count": 42,
   "id": "e265ea89-7949-449a-ad5c-5acb43821030",
   "metadata": {},
   "outputs": [
    {
     "data": {
      "text/plain": [
       "<AxesSubplot:xlabel='Date'>"
      ]
     },
     "execution_count": 42,
     "metadata": {},
     "output_type": "execute_result"
    },
    {
     "data": {
      "image/png": "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\n",
      "text/plain": [
       "<Figure size 432x288 with 1 Axes>"
      ]
     },
     "metadata": {
      "needs_background": "light"
     },
     "output_type": "display_data"
    }
   ],
   "source": [
    "msft_hist.plot.line( y=\"Close\" , use_index=True)"
   ]
  },
  {
   "cell_type": "code",
   "execution_count": 43,
   "id": "1c890eda-4b63-44f6-befb-17827fa1f4a1",
   "metadata": {},
   "outputs": [
    {
     "data": {
      "text/plain": [
       "1.0    4643\n",
       "0.0    4538\n",
       "Name: Target, dtype: int64"
      ]
     },
     "execution_count": 43,
     "metadata": {},
     "output_type": "execute_result"
    }
   ],
   "source": [
    "data = msft_hist[[\"Close\"]]\n",
    "data = data.rename(columns = {'Close':'Actual Close'})\n",
    "data[\"Target\"] = msft_hist.rolling(2).apply(lambda x: x.iloc[1] > x.iloc[0])[\"Close\"]\n",
    "#This is the target. This is what we want the ML Algorithm to predict\n",
    "\n",
    "data[\"Target\"].value_counts() # Here we are trying to make sure that we have a roughly balanced dataset."
   ]
  },
  {
   "cell_type": "code",
   "execution_count": 44,
   "id": "b9fb199c-9391-416c-ba1a-b18df396c593",
   "metadata": {},
   "outputs": [
    {
     "data": {
      "text/html": [
       "<div>\n",
       "<style scoped>\n",
       "    .dataframe tbody tr th:only-of-type {\n",
       "        vertical-align: middle;\n",
       "    }\n",
       "\n",
       "    .dataframe tbody tr th {\n",
       "        vertical-align: top;\n",
       "    }\n",
       "\n",
       "    .dataframe thead th {\n",
       "        text-align: right;\n",
       "    }\n",
       "</style>\n",
       "<table border=\"1\" class=\"dataframe\">\n",
       "  <thead>\n",
       "    <tr style=\"text-align: right;\">\n",
       "      <th></th>\n",
       "      <th>Actual Close</th>\n",
       "      <th>Target</th>\n",
       "    </tr>\n",
       "    <tr>\n",
       "      <th>Date</th>\n",
       "      <th></th>\n",
       "      <th></th>\n",
       "    </tr>\n",
       "  </thead>\n",
       "  <tbody>\n",
       "    <tr>\n",
       "      <th>1986-03-13</th>\n",
       "      <td>0.061109</td>\n",
       "      <td>NaN</td>\n",
       "    </tr>\n",
       "    <tr>\n",
       "      <th>1986-03-14</th>\n",
       "      <td>0.063292</td>\n",
       "      <td>1.0</td>\n",
       "    </tr>\n",
       "    <tr>\n",
       "      <th>1986-03-17</th>\n",
       "      <td>0.064384</td>\n",
       "      <td>1.0</td>\n",
       "    </tr>\n",
       "    <tr>\n",
       "      <th>1986-03-18</th>\n",
       "      <td>0.062746</td>\n",
       "      <td>0.0</td>\n",
       "    </tr>\n",
       "    <tr>\n",
       "      <th>1986-03-19</th>\n",
       "      <td>0.061655</td>\n",
       "      <td>0.0</td>\n",
       "    </tr>\n",
       "  </tbody>\n",
       "</table>\n",
       "</div>"
      ],
      "text/plain": [
       "            Actual Close  Target\n",
       "Date                            \n",
       "1986-03-13      0.061109     NaN\n",
       "1986-03-14      0.063292     1.0\n",
       "1986-03-17      0.064384     1.0\n",
       "1986-03-18      0.062746     0.0\n",
       "1986-03-19      0.061655     0.0"
      ]
     },
     "execution_count": 44,
     "metadata": {},
     "output_type": "execute_result"
    }
   ],
   "source": [
    "data.head(5)"
   ]
  },
  {
   "cell_type": "code",
   "execution_count": 45,
   "id": "d7fcbf5d-3811-4781-a3b5-a9ef7f4c9203",
   "metadata": {},
   "outputs": [
    {
     "data": {
      "text/plain": [
       "pandas.core.frame.DataFrame"
      ]
     },
     "execution_count": 45,
     "metadata": {},
     "output_type": "execute_result"
    }
   ],
   "source": [
    "type(data)"
   ]
  },
  {
   "cell_type": "code",
   "execution_count": 46,
   "id": "38a1ad99-8d3a-4714-bbac-78ab6d9ee82c",
   "metadata": {},
   "outputs": [
    {
     "data": {
      "text/html": [
       "<div>\n",
       "<style scoped>\n",
       "    .dataframe tbody tr th:only-of-type {\n",
       "        vertical-align: middle;\n",
       "    }\n",
       "\n",
       "    .dataframe tbody tr th {\n",
       "        vertical-align: top;\n",
       "    }\n",
       "\n",
       "    .dataframe thead th {\n",
       "        text-align: right;\n",
       "    }\n",
       "</style>\n",
       "<table border=\"1\" class=\"dataframe\">\n",
       "  <thead>\n",
       "    <tr style=\"text-align: right;\">\n",
       "      <th></th>\n",
       "      <th>Open</th>\n",
       "      <th>High</th>\n",
       "      <th>Low</th>\n",
       "      <th>Close</th>\n",
       "      <th>Volume</th>\n",
       "      <th>Dividends</th>\n",
       "      <th>Stock Splits</th>\n",
       "    </tr>\n",
       "    <tr>\n",
       "      <th>Date</th>\n",
       "      <th></th>\n",
       "      <th></th>\n",
       "      <th></th>\n",
       "      <th></th>\n",
       "      <th></th>\n",
       "      <th></th>\n",
       "      <th></th>\n",
       "    </tr>\n",
       "  </thead>\n",
       "  <tbody>\n",
       "    <tr>\n",
       "      <th>1986-03-13</th>\n",
       "      <td>NaN</td>\n",
       "      <td>NaN</td>\n",
       "      <td>NaN</td>\n",
       "      <td>NaN</td>\n",
       "      <td>NaN</td>\n",
       "      <td>NaN</td>\n",
       "      <td>NaN</td>\n",
       "    </tr>\n",
       "    <tr>\n",
       "      <th>1986-03-14</th>\n",
       "      <td>0.055653</td>\n",
       "      <td>0.063838</td>\n",
       "      <td>0.055653</td>\n",
       "      <td>0.061109</td>\n",
       "      <td>1.031789e+09</td>\n",
       "      <td>0.0</td>\n",
       "      <td>0.0</td>\n",
       "    </tr>\n",
       "    <tr>\n",
       "      <th>1986-03-17</th>\n",
       "      <td>0.061109</td>\n",
       "      <td>0.064384</td>\n",
       "      <td>0.061109</td>\n",
       "      <td>0.063292</td>\n",
       "      <td>3.081600e+08</td>\n",
       "      <td>0.0</td>\n",
       "      <td>0.0</td>\n",
       "    </tr>\n",
       "    <tr>\n",
       "      <th>1986-03-18</th>\n",
       "      <td>0.063292</td>\n",
       "      <td>0.064929</td>\n",
       "      <td>0.063292</td>\n",
       "      <td>0.064384</td>\n",
       "      <td>1.331712e+08</td>\n",
       "      <td>0.0</td>\n",
       "      <td>0.0</td>\n",
       "    </tr>\n",
       "    <tr>\n",
       "      <th>1986-03-19</th>\n",
       "      <td>0.064383</td>\n",
       "      <td>0.064929</td>\n",
       "      <td>0.062201</td>\n",
       "      <td>0.062746</td>\n",
       "      <td>6.776640e+07</td>\n",
       "      <td>0.0</td>\n",
       "      <td>0.0</td>\n",
       "    </tr>\n",
       "  </tbody>\n",
       "</table>\n",
       "</div>"
      ],
      "text/plain": [
       "                Open      High       Low     Close        Volume  Dividends  \\\n",
       "Date                                                                          \n",
       "1986-03-13       NaN       NaN       NaN       NaN           NaN        NaN   \n",
       "1986-03-14  0.055653  0.063838  0.055653  0.061109  1.031789e+09        0.0   \n",
       "1986-03-17  0.061109  0.064384  0.061109  0.063292  3.081600e+08        0.0   \n",
       "1986-03-18  0.063292  0.064929  0.063292  0.064384  1.331712e+08        0.0   \n",
       "1986-03-19  0.064383  0.064929  0.062201  0.062746  6.776640e+07        0.0   \n",
       "\n",
       "            Stock Splits  \n",
       "Date                      \n",
       "1986-03-13           NaN  \n",
       "1986-03-14           0.0  \n",
       "1986-03-17           0.0  \n",
       "1986-03-18           0.0  \n",
       "1986-03-19           0.0  "
      ]
     },
     "execution_count": 46,
     "metadata": {},
     "output_type": "execute_result"
    }
   ],
   "source": [
    "msft_prev = msft_hist.copy()\n",
    "msft_prev = msft_hist.shift(1)# Here we are shifting the data by 1 column in order to make sure that the data is used from the previous day is used to predict what happend the following day\n",
    "msft_prev.head(5)"
   ]
  },
  {
   "cell_type": "code",
   "execution_count": 47,
   "id": "c7494d37-a2e7-4d92-bb47-b727321c6623",
   "metadata": {},
   "outputs": [],
   "source": [
    "predictors = [\"Close\", \"High\", \"Low\", \"Open\", \"Volume\"]\n",
    "data = data.join(msft_prev[predictors]).iloc[1:] "
   ]
  },
  {
   "cell_type": "code",
   "execution_count": 48,
   "id": "61c2c4e6-444a-40dd-9101-3d9c5c3e0356",
   "metadata": {},
   "outputs": [
    {
     "data": {
      "text/html": [
       "<div>\n",
       "<style scoped>\n",
       "    .dataframe tbody tr th:only-of-type {\n",
       "        vertical-align: middle;\n",
       "    }\n",
       "\n",
       "    .dataframe tbody tr th {\n",
       "        vertical-align: top;\n",
       "    }\n",
       "\n",
       "    .dataframe thead th {\n",
       "        text-align: right;\n",
       "    }\n",
       "</style>\n",
       "<table border=\"1\" class=\"dataframe\">\n",
       "  <thead>\n",
       "    <tr style=\"text-align: right;\">\n",
       "      <th></th>\n",
       "      <th>Actual Close</th>\n",
       "      <th>Target</th>\n",
       "      <th>Close</th>\n",
       "      <th>High</th>\n",
       "      <th>Low</th>\n",
       "      <th>Open</th>\n",
       "      <th>Volume</th>\n",
       "    </tr>\n",
       "    <tr>\n",
       "      <th>Date</th>\n",
       "      <th></th>\n",
       "      <th></th>\n",
       "      <th></th>\n",
       "      <th></th>\n",
       "      <th></th>\n",
       "      <th></th>\n",
       "      <th></th>\n",
       "    </tr>\n",
       "  </thead>\n",
       "  <tbody>\n",
       "    <tr>\n",
       "      <th>1986-03-14</th>\n",
       "      <td>0.063292</td>\n",
       "      <td>1.0</td>\n",
       "      <td>0.061109</td>\n",
       "      <td>0.063838</td>\n",
       "      <td>0.055653</td>\n",
       "      <td>0.055653</td>\n",
       "      <td>1.031789e+09</td>\n",
       "    </tr>\n",
       "    <tr>\n",
       "      <th>1986-03-17</th>\n",
       "      <td>0.064384</td>\n",
       "      <td>1.0</td>\n",
       "      <td>0.063292</td>\n",
       "      <td>0.064384</td>\n",
       "      <td>0.061109</td>\n",
       "      <td>0.061109</td>\n",
       "      <td>3.081600e+08</td>\n",
       "    </tr>\n",
       "    <tr>\n",
       "      <th>1986-03-18</th>\n",
       "      <td>0.062746</td>\n",
       "      <td>0.0</td>\n",
       "      <td>0.064384</td>\n",
       "      <td>0.064929</td>\n",
       "      <td>0.063292</td>\n",
       "      <td>0.063292</td>\n",
       "      <td>1.331712e+08</td>\n",
       "    </tr>\n",
       "    <tr>\n",
       "      <th>1986-03-19</th>\n",
       "      <td>0.061655</td>\n",
       "      <td>0.0</td>\n",
       "      <td>0.062746</td>\n",
       "      <td>0.064929</td>\n",
       "      <td>0.062201</td>\n",
       "      <td>0.064383</td>\n",
       "      <td>6.776640e+07</td>\n",
       "    </tr>\n",
       "    <tr>\n",
       "      <th>1986-03-20</th>\n",
       "      <td>0.060018</td>\n",
       "      <td>0.0</td>\n",
       "      <td>0.061655</td>\n",
       "      <td>0.063292</td>\n",
       "      <td>0.061109</td>\n",
       "      <td>0.062746</td>\n",
       "      <td>4.789440e+07</td>\n",
       "    </tr>\n",
       "  </tbody>\n",
       "</table>\n",
       "</div>"
      ],
      "text/plain": [
       "            Actual Close  Target     Close      High       Low      Open  \\\n",
       "Date                                                                       \n",
       "1986-03-14      0.063292     1.0  0.061109  0.063838  0.055653  0.055653   \n",
       "1986-03-17      0.064384     1.0  0.063292  0.064384  0.061109  0.061109   \n",
       "1986-03-18      0.062746     0.0  0.064384  0.064929  0.063292  0.063292   \n",
       "1986-03-19      0.061655     0.0  0.062746  0.064929  0.062201  0.064383   \n",
       "1986-03-20      0.060018     0.0  0.061655  0.063292  0.061109  0.062746   \n",
       "\n",
       "                  Volume  \n",
       "Date                      \n",
       "1986-03-14  1.031789e+09  \n",
       "1986-03-17  3.081600e+08  \n",
       "1986-03-18  1.331712e+08  \n",
       "1986-03-19  6.776640e+07  \n",
       "1986-03-20  4.789440e+07  "
      ]
     },
     "execution_count": 48,
     "metadata": {},
     "output_type": "execute_result"
    }
   ],
   "source": [
    "data.head(5)"
   ]
  },
  {
   "cell_type": "code",
   "execution_count": 49,
   "id": "258952c1-f5ec-4553-afd3-68bbba024ebb",
   "metadata": {},
   "outputs": [],
   "source": [
    "from sklearn.ensemble import RandomForestClassifier # This model is a good default model to be used for most ML. It can identify non-linear relationships in the data. We are using\n",
    "#RandomForestClassifier here instead of RandomForestRegerssor because the Target is binary. Basically a Logistic Regression case.\n",
    "\n",
    "model = RandomForestClassifier(n_estimators=100, min_samples_split=200, random_state=1) # Initialize the model. n_estimators is the number of decision trees we want to use. min_samples_split: This number helpe the model\n",
    "                               #not become over-fitted where it performs well with the training data and poorly with estimated data. random_state: if it's set to 1 and you run the model over and over again\n",
    "                               # on the same data, you will get the same result)\n",
    "        "
   ]
  },
  {
   "cell_type": "code",
   "execution_count": 50,
   "id": "51d90aa4-1fd1-43f9-97e4-faca75d91a32",
   "metadata": {},
   "outputs": [
    {
     "data": {
      "text/plain": [
       "RandomForestClassifier(min_samples_split=200, random_state=1)"
      ]
     },
     "execution_count": 50,
     "metadata": {},
     "output_type": "execute_result"
    }
   ],
   "source": [
    "train = data.iloc[:-100] # take the whole data minus the last 100\n",
    "test = data.iloc[-100:] # So here this is the last 100 data we are saving them for testing only. So we are training the model with \"train\" and testing it with \"test\". \n",
    "#Typically you would use Crossvalidation method.\n",
    "\n",
    "model.fit(train[predictors],train[\"Target\"]) # Here we are fitting a cruve or training the model with our data.\n",
    "\n"
   ]
  },
  {
   "cell_type": "code",
   "execution_count": 51,
   "id": "38f2ac5e-acec-49e8-b3b0-870903ad443d",
   "metadata": {},
   "outputs": [],
   "source": [
    "from sklearn.metrics import precision_score\n",
    "\n",
    "#Compute the precision. The precision is the ratio tp / (tp + fp) where tp is the number of true positives and fp the number of false positives. \n",
    "#The precision is intuitively the ability of the classifier not to label as positive a sample that is negative.\n",
    "#The best value is 1 and the worst value is 0.\n",
    "\n",
    "preds = model.predict(test[predictors])"
   ]
  },
  {
   "cell_type": "code",
   "execution_count": 52,
   "id": "60eba6c6-d32f-4a10-ab10-184f684b71d8",
   "metadata": {},
   "outputs": [
    {
     "data": {
      "text/plain": [
       "array([0., 1., 0., 1., 1., 1., 1., 1., 1., 1., 1., 0., 1., 0., 1., 0., 1.,\n",
       "       0., 0., 0., 1., 1., 1., 1., 1., 1., 1., 1., 1., 1., 1., 1., 1., 1.,\n",
       "       1., 1., 1., 1., 1., 1., 1., 1., 1., 1., 1., 1., 1., 1., 1., 1., 1.,\n",
       "       1., 1., 1., 1., 1., 1., 1., 1., 1., 1., 1., 1., 1., 1., 1., 1., 1.,\n",
       "       1., 0., 0., 1., 0., 1., 1., 1., 1., 1., 1., 0., 1., 1., 1., 1., 0.,\n",
       "       1., 1., 1., 1., 0., 1., 1., 0., 0., 1., 0., 0., 0., 0., 0.])"
      ]
     },
     "execution_count": 52,
     "metadata": {},
     "output_type": "execute_result"
    }
   ],
   "source": [
    "preds"
   ]
  },
  {
   "cell_type": "code",
   "execution_count": 53,
   "id": "6ae22fe2-cd22-43d9-8356-345aed46b152",
   "metadata": {},
   "outputs": [],
   "source": [
    "#in order to easily compare what the model predicted vs what actually happened in the last 100 days, we need to convert preds to panda time series\n",
    "import pandas as pd\n",
    "preds = pd.Series(preds, index=test.index)"
   ]
  },
  {
   "cell_type": "code",
   "execution_count": 54,
   "id": "6dd3241e-0f8a-4658-aa4f-a5b034cab8ad",
   "metadata": {},
   "outputs": [
    {
     "data": {
      "text/plain": [
       "Date\n",
       "2022-03-24    0.0\n",
       "2022-03-25    1.0\n",
       "2022-03-28    0.0\n",
       "2022-03-29    1.0\n",
       "2022-03-30    1.0\n",
       "             ... \n",
       "2022-08-10    0.0\n",
       "2022-08-11    0.0\n",
       "2022-08-12    0.0\n",
       "2022-08-15    0.0\n",
       "2022-08-16    0.0\n",
       "Length: 100, dtype: float64"
      ]
     },
     "execution_count": 54,
     "metadata": {},
     "output_type": "execute_result"
    }
   ],
   "source": [
    "preds"
   ]
  },
  {
   "cell_type": "code",
   "execution_count": 55,
   "id": "c16137bd-cc7d-49c6-ab27-3d027ded74bb",
   "metadata": {},
   "outputs": [
    {
     "data": {
      "text/plain": [
       "0.5189873417721519"
      ]
     },
     "execution_count": 55,
     "metadata": {},
     "output_type": "execute_result"
    }
   ],
   "source": [
    "precision_score(test[\"Target\"],preds)# This result shows how we scored on the last 100 only. Whether it's good or bad you can't trust it because you aren't doing enought testing.\n",
    "# You need to test across the entire history to get better assesment of the model."
   ]
  },
  {
   "cell_type": "code",
   "execution_count": 56,
   "id": "451ce61c-1082-41b0-84bb-f7a008b82507",
   "metadata": {},
   "outputs": [
    {
     "data": {
      "text/html": [
       "<div>\n",
       "<style scoped>\n",
       "    .dataframe tbody tr th:only-of-type {\n",
       "        vertical-align: middle;\n",
       "    }\n",
       "\n",
       "    .dataframe tbody tr th {\n",
       "        vertical-align: top;\n",
       "    }\n",
       "\n",
       "    .dataframe thead th {\n",
       "        text-align: right;\n",
       "    }\n",
       "</style>\n",
       "<table border=\"1\" class=\"dataframe\">\n",
       "  <thead>\n",
       "    <tr style=\"text-align: right;\">\n",
       "      <th></th>\n",
       "      <th>Target</th>\n",
       "      <th>Predictions</th>\n",
       "    </tr>\n",
       "    <tr>\n",
       "      <th>Date</th>\n",
       "      <th></th>\n",
       "      <th></th>\n",
       "    </tr>\n",
       "  </thead>\n",
       "  <tbody>\n",
       "    <tr>\n",
       "      <th>2022-03-24</th>\n",
       "      <td>1.0</td>\n",
       "      <td>0.0</td>\n",
       "    </tr>\n",
       "    <tr>\n",
       "      <th>2022-03-25</th>\n",
       "      <td>0.0</td>\n",
       "      <td>1.0</td>\n",
       "    </tr>\n",
       "    <tr>\n",
       "      <th>2022-03-28</th>\n",
       "      <td>1.0</td>\n",
       "      <td>0.0</td>\n",
       "    </tr>\n",
       "    <tr>\n",
       "      <th>2022-03-29</th>\n",
       "      <td>1.0</td>\n",
       "      <td>1.0</td>\n",
       "    </tr>\n",
       "    <tr>\n",
       "      <th>2022-03-30</th>\n",
       "      <td>0.0</td>\n",
       "      <td>1.0</td>\n",
       "    </tr>\n",
       "    <tr>\n",
       "      <th>...</th>\n",
       "      <td>...</td>\n",
       "      <td>...</td>\n",
       "    </tr>\n",
       "    <tr>\n",
       "      <th>2022-08-10</th>\n",
       "      <td>1.0</td>\n",
       "      <td>0.0</td>\n",
       "    </tr>\n",
       "    <tr>\n",
       "      <th>2022-08-11</th>\n",
       "      <td>0.0</td>\n",
       "      <td>0.0</td>\n",
       "    </tr>\n",
       "    <tr>\n",
       "      <th>2022-08-12</th>\n",
       "      <td>1.0</td>\n",
       "      <td>0.0</td>\n",
       "    </tr>\n",
       "    <tr>\n",
       "      <th>2022-08-15</th>\n",
       "      <td>1.0</td>\n",
       "      <td>0.0</td>\n",
       "    </tr>\n",
       "    <tr>\n",
       "      <th>2022-08-16</th>\n",
       "      <td>0.0</td>\n",
       "      <td>0.0</td>\n",
       "    </tr>\n",
       "  </tbody>\n",
       "</table>\n",
       "<p>100 rows × 2 columns</p>\n",
       "</div>"
      ],
      "text/plain": [
       "            Target  Predictions\n",
       "Date                           \n",
       "2022-03-24     1.0          0.0\n",
       "2022-03-25     0.0          1.0\n",
       "2022-03-28     1.0          0.0\n",
       "2022-03-29     1.0          1.0\n",
       "2022-03-30     0.0          1.0\n",
       "...            ...          ...\n",
       "2022-08-10     1.0          0.0\n",
       "2022-08-11     0.0          0.0\n",
       "2022-08-12     1.0          0.0\n",
       "2022-08-15     1.0          0.0\n",
       "2022-08-16     0.0          0.0\n",
       "\n",
       "[100 rows x 2 columns]"
      ]
     },
     "execution_count": 56,
     "metadata": {},
     "output_type": "execute_result"
    }
   ],
   "source": [
    "combined = pd.concat({\"Target\": test[\"Target\"], \"Predictions\":preds},axis=1)\n",
    "combined"
   ]
  },
  {
   "cell_type": "code",
   "execution_count": 57,
   "id": "6500f8e4-bf41-446e-a508-a0aa657198c4",
   "metadata": {},
   "outputs": [
    {
     "data": {
      "text/plain": [
       "<AxesSubplot:xlabel='Date'>"
      ]
     },
     "execution_count": 57,
     "metadata": {},
     "output_type": "execute_result"
    },
    {
     "data": {
      "image/png": "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\n",
      "text/plain": [
       "<Figure size 432x288 with 1 Axes>"
      ]
     },
     "metadata": {
      "needs_background": "light"
     },
     "output_type": "display_data"
    }
   ],
   "source": [
    "combined.plot() #pandas plots every column against the index automatically."
   ]
  },
  {
   "cell_type": "code",
   "execution_count": 58,
   "id": "72b2e923-54a0-498e-9e3d-250c959d1f44",
   "metadata": {},
   "outputs": [],
   "source": [
    "# Now we will implement backtesting:\n",
    "\n",
    "start = 1000\n",
    "step=750 # in the real world, set this to 100 (smaller step)\n",
    "#i=1000\n",
    "\n",
    "def backtest(data, model, predictors, start = 1000, step = 750):\n",
    "    predictions = []\n",
    "\n",
    "    for i in range (start, data.shape[0], step):\n",
    "\n",
    "        train = data.iloc[0:i].copy()\n",
    "        test = data.iloc[i:i+step].copy()\n",
    "\n",
    "        # Now we can fit the model again using the new train set we defined.\n",
    "\n",
    "        model.fit(train[predictors], train[\"Target\"])\n",
    "\n",
    "        # Now we need to test the model but we will test it with a different function: model.predict_proba.\n",
    "        # This function gives you the probability that the outome is 0 or 1 and you can set the threshould later.\n",
    "\n",
    "        preds= model.predict_proba(test[predictors])[:,1]\n",
    "\n",
    "        preds[preds >0.6] = 1\n",
    "        preds[preds <=0.6] = 0\n",
    "\n",
    "        preds = pd.Series(preds, index=test.index)\n",
    "        combined = pd.concat({\"Target\": test[\"Target\"], \"Predictions\":preds}, axis = 1)\n",
    "\n",
    "        predictions.append(combined)\n",
    "\n",
    "    predictions = pd.concat(predictions)\n",
    "    \n",
    "    return predictions\n",
    "\n",
    "\n"
   ]
  },
  {
   "cell_type": "code",
   "execution_count": null,
   "id": "112d81d2-04b7-48a8-82fe-1cb24309a581",
   "metadata": {},
   "outputs": [],
   "source": [
    "\n",
    "\n"
   ]
  },
  {
   "cell_type": "code",
   "execution_count": null,
   "id": "360bd20a-1302-4fcf-b08f-770dce723c44",
   "metadata": {},
   "outputs": [],
   "source": [
    "precision_score(predictions[\"Target\"], predictions[\"Predictions\"]) # it's 0.5. That means when we predict \n",
    "# that the price go up, it only goes up 50% of the time."
   ]
  },
  {
   "cell_type": "code",
   "execution_count": null,
   "id": "9bed4555-7801-4981-bbc1-55ab4bab3d7d",
   "metadata": {},
   "outputs": [],
   "source": [
    "# Since our accuracy isn't accurate, we need to try to improve the accuracy. We can do that by\n",
    "# adding more predictors."
   ]
  },
  {
   "cell_type": "code",
   "execution_count": 64,
   "id": "f4332171-690b-4955-b05a-156f62ff14f8",
   "metadata": {},
   "outputs": [],
   "source": [
    "weekly_mean = data.rolling(7).mean()\n",
    "quarterly_mean = data.rolling(90).mean()\n",
    "annual_mean = data.rolling(365).mean()\n",
    "\n",
    "weekly_trend = data.shift(1).rolling(7).mean()[\"Target\"] # This looks at the last 7 days and determines\n",
    "# on average what was the precentage the price would go up"
   ]
  },
  {
   "cell_type": "code",
   "execution_count": 65,
   "id": "1d18ae2b-9eee-4ba3-8027-4287f0675394",
   "metadata": {},
   "outputs": [],
   "source": [
    "#temp = [ weekly_mean[\"Target\"], weekly_trend]\n",
    "#temp1 = pd.concat(temp, axis=1)\n",
    "#temp1.head(20)"
   ]
  },
  {
   "cell_type": "code",
   "execution_count": 66,
   "id": "8e6c585b-da1c-47f8-8d9c-35a34850af09",
   "metadata": {},
   "outputs": [],
   "source": [
    "# these new columns help the model when we train it ebcause we are giving more data for the overall picture.\n",
    "data[\"weekly_mean\"] = weekly_mean[\"Close\"] / data[\"Close\"]\n",
    "data[\"quarterly_mean\"] = quarterly_mean[\"Close\"] / data[\"Close\"]\n",
    "data[\"annual_mean\"] = annual_mean[\"Close\"] / data[\"Close\"]\n",
    "\n",
    "data[\"annual_weekly_mean\"] = data[\"annual_mean\"] / data[\"weekly_mean\"]\n",
    "data[\"annual_quarterly_mean\"] = data[\"annual_mean\"] / data[\"quarterly_mean\"]\n",
    "data[\"weekly_trend\"] = weekly_trend\n",
    "\n",
    "data[\"open_close_ratio\"] = data[\"Open\"] / data[\"Close\"]\n",
    "data[\"high_close_ratio\"] = data[\"High\"] / data[\"Close\"]\n",
    "data[\"low_close_ratio\"] = data[\"Low\"] / data[\"Close\"]\n",
    "\n",
    "full_predictors = predictors + [\"weekly_mean\", \"quarterly_mean\", \"annual_mean\", \"annual_weekly_mean\", \"annual_quarterly_mean\", \"open_close_ratio\", \"high_close_ratio\", \"low_close_ratio\", \"weekly_trend\"]\n",
    "predictions = backtest(data.iloc[365:], model, full_predictors)\n"
   ]
  },
  {
   "cell_type": "code",
   "execution_count": 63,
   "id": "84747e64-2252-462c-8bbe-7f955d6520f9",
   "metadata": {},
   "outputs": [
    {
     "data": {
      "text/plain": [
       "0.5748792270531401"
      ]
     },
     "execution_count": 63,
     "metadata": {},
     "output_type": "execute_result"
    }
   ],
   "source": [
    "precision_score(predictions[\"Target\"], predictions[\"Predictions\"])"
   ]
  },
  {
   "cell_type": "code",
   "execution_count": 67,
   "id": "7027e8e1-eee6-487d-8de8-40e6807ba3ba",
   "metadata": {},
   "outputs": [
    {
     "data": {
      "text/plain": [
       "0.0    7613\n",
       "1.0     203\n",
       "Name: Predictions, dtype: int64"
      ]
     },
     "execution_count": 67,
     "metadata": {},
     "output_type": "execute_result"
    }
   ],
   "source": [
    "# Show how many trades we would make\n",
    "\n",
    "predictions[\"Predictions\"].value_counts()"
   ]
  },
  {
   "cell_type": "code",
   "execution_count": 68,
   "id": "9fb3e4de-9531-4b11-9483-3516654b0c4a",
   "metadata": {},
   "outputs": [
    {
     "data": {
      "text/plain": [
       "<AxesSubplot:xlabel='Date'>"
      ]
     },
     "execution_count": 68,
     "metadata": {},
     "output_type": "execute_result"
    },
    {
     "data": {
      "image/png": "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\n",
      "text/plain": [
       "<Figure size 432x288 with 1 Axes>"
      ]
     },
     "metadata": {
      "needs_background": "light"
     },
     "output_type": "display_data"
    }
   ],
   "source": [
    "\n",
    "predictions.iloc[-100:].plot()"
   ]
  },
  {
   "cell_type": "code",
   "execution_count": null,
   "id": "ec433d10-bcb7-42af-a4f8-4289dabdf6cc",
   "metadata": {},
   "outputs": [],
   "source": []
  }
 ],
 "metadata": {
  "kernelspec": {
   "display_name": "Python 3 (ipykernel)",
   "language": "python",
   "name": "python3"
  },
  "language_info": {
   "codemirror_mode": {
    "name": "ipython",
    "version": 3
   },
   "file_extension": ".py",
   "mimetype": "text/x-python",
   "name": "python",
   "nbconvert_exporter": "python",
   "pygments_lexer": "ipython3",
   "version": "3.9.12"
  }
 },
 "nbformat": 4,
 "nbformat_minor": 5
}
